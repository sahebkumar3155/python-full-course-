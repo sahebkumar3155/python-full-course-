{
 "cells": [
  {
   "cell_type": "markdown",
   "id": "ffd1092c",
   "metadata": {},
   "source": [
    "python support 3 categories of data type:\n",
    ".Basic type:-(integer,float,complex,boolean and string)\n",
    ".container type:-(list,tuple,sets and dictonary)\n",
    ".user define type:-class\n"
   ]
  },
  {
   "cell_type": "code",
   "execution_count": 5,
   "id": "e4a93ebd",
   "metadata": {},
   "outputs": [
    {
     "name": "stdout",
     "output_type": "stream",
     "text": [
      "5\n",
      "88888888888888888888888888888888888888888888888888888888\n",
      "1e+308\n"
     ]
    }
   ],
   "source": [
    "#integer\n",
    "print(5)\n",
    "#the range of integer is very big\n",
    "print(88888888888888888888888888888888888888888888888888888888)\n",
    "#the range of integer is very big\n",
    "print(1e308) # if you have 10 to the power 308 last range of the integer in python"
   ]
  },
  {
   "cell_type": "code",
   "execution_count": 8,
   "id": "77e3efe7",
   "metadata": {},
   "outputs": [
    {
     "name": "stdout",
     "output_type": "stream",
     "text": [
      "4.5\n",
      "1.2e+308\n"
     ]
    }
   ],
   "source": [
    "#float\n",
    "print(4.5)\n",
    "#it is also the same size of integer store number\n",
    "print(1.2e308)"
   ]
  },
  {
   "cell_type": "code",
   "execution_count": 10,
   "id": "497630db",
   "metadata": {},
   "outputs": [
    {
     "name": "stdout",
     "output_type": "stream",
     "text": [
      "True\n",
      "False\n"
     ]
    }
   ],
   "source": [
    "#boolen \n",
    "print(True)\n",
    "print(False)"
   ]
  },
  {
   "cell_type": "code",
   "execution_count": 13,
   "id": "2877bc61",
   "metadata": {},
   "outputs": [
    {
     "name": "stdout",
     "output_type": "stream",
     "text": [
      "(20+5j)\n"
     ]
    }
   ],
   "source": [
    "#complex\n",
    "print(20+5j)"
   ]
  },
  {
   "cell_type": "code",
   "execution_count": 15,
   "id": "5a2e7860",
   "metadata": {},
   "outputs": [
    {
     "name": "stdout",
     "output_type": "stream",
     "text": [
      "saheb\n",
      "saheb\n",
      "saheb\n"
     ]
    }
   ],
   "source": [
    "#string\n",
    "print('saheb')\n",
    "print(\"saheb\")\n",
    "print(\"\"\"saheb\"\"\")"
   ]
  },
  {
   "cell_type": "code",
   "execution_count": 17,
   "id": "b348baa6",
   "metadata": {},
   "outputs": [
    {
     "name": "stdout",
     "output_type": "stream",
     "text": [
      "[1, 5, 26, 3, 5]\n"
     ]
    }
   ],
   "source": [
    "#list\n",
    "print([1,5,26,3,5])"
   ]
  },
  {
   "cell_type": "code",
   "execution_count": 18,
   "id": "f0d4433f",
   "metadata": {},
   "outputs": [
    {
     "name": "stdout",
     "output_type": "stream",
     "text": [
      "(15, 54, 6, 2, 2, 5)\n"
     ]
    }
   ],
   "source": [
    "#tuple\n",
    "print((15,54,6,2,2,5,))"
   ]
  },
  {
   "cell_type": "code",
   "execution_count": 20,
   "id": "c2a8257f",
   "metadata": {},
   "outputs": [
    {
     "name": "stdout",
     "output_type": "stream",
     "text": [
      "{10, 21, 54, 335}\n"
     ]
    }
   ],
   "source": [
    "#set\n",
    "print({10,21,54,335,})"
   ]
  },
  {
   "cell_type": "code",
   "execution_count": 21,
   "id": "dce8ff6d",
   "metadata": {},
   "outputs": [
    {
     "name": "stdout",
     "output_type": "stream",
     "text": [
      "{'name': 'saheb', 'age': 19, 'gender': 'male'}\n"
     ]
    }
   ],
   "source": [
    "#disctonary:-it is a fast search daya type \n",
    "print({\"name\":\"saheb\",\"age\":19,\"gender\":\"male\"})"
   ]
  }
 ],
 "metadata": {
  "kernelspec": {
   "display_name": "Python 3 (ipykernel)",
   "language": "python",
   "name": "python3"
  },
  "language_info": {
   "codemirror_mode": {
    "name": "ipython",
    "version": 3
   },
   "file_extension": ".py",
   "mimetype": "text/x-python",
   "name": "python",
   "nbconvert_exporter": "python",
   "pygments_lexer": "ipython3",
   "version": "3.9.7"
  }
 },
 "nbformat": 4,
 "nbformat_minor": 5
}
