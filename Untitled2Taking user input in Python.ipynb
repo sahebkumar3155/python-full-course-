{
 "cells": [
  {
   "cell_type": "code",
   "execution_count": 1,
   "id": "62efa9f3",
   "metadata": {},
   "outputs": [
    {
     "name": "stdout",
     "output_type": "stream",
     "text": [
      "who are yousaheb\n"
     ]
    },
    {
     "data": {
      "text/plain": [
       "'saheb'"
      ]
     },
     "execution_count": 1,
     "metadata": {},
     "output_type": "execute_result"
    }
   ],
   "source": [
    "input(\"who are you\")"
   ]
  },
  {
   "cell_type": "code",
   "execution_count": 7,
   "id": "051b0d23",
   "metadata": {},
   "outputs": [
    {
     "name": "stdout",
     "output_type": "stream",
     "text": [
      "enter the first number458\n",
      "enter the second numbr4445\n"
     ]
    }
   ],
   "source": [
    "first_num=input(\"enter the first number\")\n",
    "second_num=input(\"enter the second numbr\")"
   ]
  },
  {
   "cell_type": "code",
   "execution_count": 8,
   "id": "a7683cc9",
   "metadata": {},
   "outputs": [
    {
     "name": "stdout",
     "output_type": "stream",
     "text": [
      "458\n",
      "4445\n"
     ]
    }
   ],
   "source": [
    "print(first_num)\n",
    "print(second_num)"
   ]
  },
  {
   "cell_type": "code",
   "execution_count": 10,
   "id": "fcdf4df3",
   "metadata": {},
   "outputs": [
    {
     "name": "stdout",
     "output_type": "stream",
     "text": [
      "4584445\n"
     ]
    }
   ],
   "source": [
    "result=first_num+second_num\n",
    "print(result)"
   ]
  },
  {
   "cell_type": "code",
   "execution_count": null,
   "id": "04b40bed",
   "metadata": {},
   "outputs": [],
   "source": []
  }
 ],
 "metadata": {
  "kernelspec": {
   "display_name": "Python 3 (ipykernel)",
   "language": "python",
   "name": "python3"
  },
  "language_info": {
   "codemirror_mode": {
    "name": "ipython",
    "version": 3
   },
   "file_extension": ".py",
   "mimetype": "text/x-python",
   "name": "python",
   "nbconvert_exporter": "python",
   "pygments_lexer": "ipython3",
   "version": "3.9.7"
  }
 },
 "nbformat": 4,
 "nbformat_minor": 5
}
