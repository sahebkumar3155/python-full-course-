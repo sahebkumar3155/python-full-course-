{
 "cells": [
  {
   "cell_type": "markdown",
   "id": "dc313040",
   "metadata": {},
   "source": [
    "# Operators Operators"
   ]
  },
  {
   "cell_type": "markdown",
   "id": "3db78dd8",
   "metadata": {},
   "source": [
    "Operators are used to perform operations on variables and values. Python has the following operators:"
   ]
  },
  {
   "cell_type": "code",
   "execution_count": null,
   "id": "dafc00f1",
   "metadata": {},
   "outputs": [],
   "source": [
    "Arithmetic operators\n",
    "Comparison operators\n",
    "Logical operators\n",
    "Bitwise operators\n",
    "Assignment operators\n",
    "Identity operators\n",
    "Membership operators"
   ]
  },
  {
   "cell_type": "markdown",
   "id": "46093936",
   "metadata": {},
   "source": [
    "# Arithmetic operators"
   ]
  },
  {
   "cell_type": "code",
   "execution_count": 1,
   "id": "2488b8e7",
   "metadata": {},
   "outputs": [
    {
     "name": "stdout",
     "output_type": "stream",
     "text": [
      "9\n"
     ]
    }
   ],
   "source": [
    "x=7\n",
    "y=2\n",
    "print(x+y)"
   ]
  },
  {
   "cell_type": "code",
   "execution_count": 2,
   "id": "1f7c5719",
   "metadata": {},
   "outputs": [
    {
     "name": "stdout",
     "output_type": "stream",
     "text": [
      "5\n"
     ]
    }
   ],
   "source": [
    "print(x-y)"
   ]
  },
  {
   "cell_type": "code",
   "execution_count": 3,
   "id": "ddb48a99",
   "metadata": {},
   "outputs": [
    {
     "name": "stdout",
     "output_type": "stream",
     "text": [
      "3.5\n"
     ]
    }
   ],
   "source": [
    "print(x/y)"
   ]
  },
  {
   "cell_type": "code",
   "execution_count": 4,
   "id": "e6e7d376",
   "metadata": {},
   "outputs": [
    {
     "name": "stdout",
     "output_type": "stream",
     "text": [
      "3\n"
     ]
    }
   ],
   "source": [
    "print(x//y)"
   ]
  },
  {
   "cell_type": "code",
   "execution_count": 5,
   "id": "b4ca80c3",
   "metadata": {},
   "outputs": [
    {
     "name": "stdout",
     "output_type": "stream",
     "text": [
      "14\n"
     ]
    }
   ],
   "source": [
    "print(x*y)"
   ]
  },
  {
   "cell_type": "code",
   "execution_count": 6,
   "id": "e4f3d3f5",
   "metadata": {},
   "outputs": [
    {
     "name": "stdout",
     "output_type": "stream",
     "text": [
      "1\n"
     ]
    }
   ],
   "source": [
    "print(x%y)"
   ]
  },
  {
   "cell_type": "code",
   "execution_count": 7,
   "id": "d59f3f4f",
   "metadata": {},
   "outputs": [
    {
     "name": "stdout",
     "output_type": "stream",
     "text": [
      "49\n"
     ]
    }
   ],
   "source": [
    "print(x**y)"
   ]
  },
  {
   "cell_type": "markdown",
   "id": "dbe99be3",
   "metadata": {},
   "source": [
    "# Comparison operators"
   ]
  },
  {
   "cell_type": "code",
   "execution_count": 8,
   "id": "845b8f02",
   "metadata": {},
   "outputs": [
    {
     "name": "stdout",
     "output_type": "stream",
     "text": [
      "True\n"
     ]
    }
   ],
   "source": [
    "print(x>y)"
   ]
  },
  {
   "cell_type": "code",
   "execution_count": 9,
   "id": "01f288d7",
   "metadata": {},
   "outputs": [
    {
     "name": "stdout",
     "output_type": "stream",
     "text": [
      "False\n"
     ]
    }
   ],
   "source": [
    "print(x<y)"
   ]
  },
  {
   "cell_type": "code",
   "execution_count": 10,
   "id": "4666be74",
   "metadata": {},
   "outputs": [
    {
     "name": "stdout",
     "output_type": "stream",
     "text": [
      "False\n"
     ]
    }
   ],
   "source": [
    "print(x<=y)"
   ]
  },
  {
   "cell_type": "code",
   "execution_count": 11,
   "id": "088cd430",
   "metadata": {},
   "outputs": [
    {
     "name": "stdout",
     "output_type": "stream",
     "text": [
      "False\n"
     ]
    }
   ],
   "source": [
    "print(x<-y)"
   ]
  },
  {
   "cell_type": "code",
   "execution_count": 12,
   "id": "9b999e2d",
   "metadata": {},
   "outputs": [
    {
     "name": "stdout",
     "output_type": "stream",
     "text": [
      "False\n"
     ]
    }
   ],
   "source": [
    "print(x==y)"
   ]
  },
  {
   "cell_type": "code",
   "execution_count": 13,
   "id": "dec3ffbf",
   "metadata": {},
   "outputs": [
    {
     "name": "stdout",
     "output_type": "stream",
     "text": [
      "True\n"
     ]
    }
   ],
   "source": [
    "print(x!=y)"
   ]
  },
  {
   "cell_type": "markdown",
   "id": "81511493",
   "metadata": {},
   "source": [
    "# Logical operators"
   ]
  },
  {
   "cell_type": "code",
   "execution_count": 14,
   "id": "3629f526",
   "metadata": {},
   "outputs": [
    {
     "name": "stdout",
     "output_type": "stream",
     "text": [
      "True\n"
     ]
    }
   ],
   "source": [
    "x=True\n",
    "y=False\n",
    "print(x or y)"
   ]
  },
  {
   "cell_type": "code",
   "execution_count": 15,
   "id": "35823226",
   "metadata": {},
   "outputs": [
    {
     "name": "stdout",
     "output_type": "stream",
     "text": [
      "False\n"
     ]
    }
   ],
   "source": [
    "print(x and y)"
   ]
  },
  {
   "cell_type": "code",
   "execution_count": 16,
   "id": "7591d5b9",
   "metadata": {},
   "outputs": [
    {
     "name": "stdout",
     "output_type": "stream",
     "text": [
      "True\n"
     ]
    }
   ],
   "source": [
    "print(not y)"
   ]
  },
  {
   "cell_type": "code",
   "execution_count": 17,
   "id": "c19d39fb",
   "metadata": {},
   "outputs": [
    {
     "name": "stdout",
     "output_type": "stream",
     "text": [
      "False\n"
     ]
    }
   ],
   "source": [
    "print(not x)"
   ]
  },
  {
   "cell_type": "markdown",
   "id": "3ffd7386",
   "metadata": {},
   "source": [
    "# Bitwise operators"
   ]
  },
  {
   "cell_type": "code",
   "execution_count": 18,
   "id": "8c1956fb",
   "metadata": {},
   "outputs": [
    {
     "name": "stdout",
     "output_type": "stream",
     "text": [
      "2\n"
     ]
    }
   ],
   "source": [
    "x=2\n",
    "y=3\n",
    "print(x & y)"
   ]
  },
  {
   "cell_type": "code",
   "execution_count": 19,
   "id": "bb321cf9",
   "metadata": {},
   "outputs": [
    {
     "name": "stdout",
     "output_type": "stream",
     "text": [
      "3\n"
     ]
    }
   ],
   "source": [
    "print(x | y)"
   ]
  },
  {
   "cell_type": "code",
   "execution_count": 20,
   "id": "11413e43",
   "metadata": {},
   "outputs": [
    {
     "name": "stdout",
     "output_type": "stream",
     "text": [
      "0\n"
     ]
    }
   ],
   "source": [
    "print(x >> 2)"
   ]
  },
  {
   "cell_type": "code",
   "execution_count": 22,
   "id": "36bf0bf4",
   "metadata": {},
   "outputs": [
    {
     "name": "stdout",
     "output_type": "stream",
     "text": [
      "24\n"
     ]
    }
   ],
   "source": [
    "print(y <<  3)"
   ]
  },
  {
   "cell_type": "code",
   "execution_count": 23,
   "id": "2429e264",
   "metadata": {},
   "outputs": [
    {
     "name": "stdout",
     "output_type": "stream",
     "text": [
      "-3\n"
     ]
    }
   ],
   "source": [
    "print(~x)"
   ]
  },
  {
   "cell_type": "markdown",
   "id": "1846dd70",
   "metadata": {},
   "source": [
    "# Assignment operators"
   ]
  },
  {
   "cell_type": "code",
   "execution_count": 24,
   "id": "c0c28787",
   "metadata": {},
   "outputs": [
    {
     "name": "stdout",
     "output_type": "stream",
     "text": [
      "3\n"
     ]
    }
   ],
   "source": [
    "a =3\n",
    "print(a)"
   ]
  },
  {
   "cell_type": "code",
   "execution_count": 25,
   "id": "1e056926",
   "metadata": {},
   "outputs": [
    {
     "name": "stdout",
     "output_type": "stream",
     "text": [
      "6\n"
     ]
    }
   ],
   "source": [
    "a +=3\n",
    "print(a)"
   ]
  },
  {
   "cell_type": "code",
   "execution_count": 26,
   "id": "45dfdfd6",
   "metadata": {},
   "outputs": [],
   "source": [
    "a &=3"
   ]
  },
  {
   "cell_type": "code",
   "execution_count": 27,
   "id": "b55d6d1a",
   "metadata": {},
   "outputs": [
    {
     "name": "stdout",
     "output_type": "stream",
     "text": [
      "2\n"
     ]
    }
   ],
   "source": [
    "print(a)"
   ]
  },
  {
   "cell_type": "markdown",
   "id": "716be308",
   "metadata": {},
   "source": [
    "# Identity operators"
   ]
  },
  {
   "cell_type": "code",
   "execution_count": 28,
   "id": "5deefe9d",
   "metadata": {},
   "outputs": [
    {
     "name": "stdout",
     "output_type": "stream",
     "text": [
      "3\n"
     ]
    }
   ],
   "source": [
    "a=a+3\n",
    "a=3\n",
    "print(a)"
   ]
  },
  {
   "cell_type": "code",
   "execution_count": 30,
   "id": "9d098d48",
   "metadata": {},
   "outputs": [
    {
     "name": "stdout",
     "output_type": "stream",
     "text": [
      "True\n"
     ]
    }
   ],
   "source": [
    "a=2\n",
    "b=2\n",
    "print(a is b)"
   ]
  },
  {
   "cell_type": "code",
   "execution_count": 31,
   "id": "d36f801e",
   "metadata": {},
   "outputs": [
    {
     "name": "stdout",
     "output_type": "stream",
     "text": [
      "True\n"
     ]
    }
   ],
   "source": [
    "a=\"hello\"\n",
    "b=\"hello\"\n",
    "print(a is b)"
   ]
  },
  {
   "cell_type": "code",
   "execution_count": 32,
   "id": "c36cdd6d",
   "metadata": {},
   "outputs": [
    {
     "name": "stdout",
     "output_type": "stream",
     "text": [
      "True\n"
     ]
    }
   ],
   "source": [
    "a=\"hello_saheb\"\n",
    "b=\"hello_saheb\"\n",
    "print(a is b)"
   ]
  },
  {
   "cell_type": "markdown",
   "id": "9df4e193",
   "metadata": {},
   "source": [
    "# Membership operators"
   ]
  },
  {
   "cell_type": "code",
   "execution_count": 34,
   "id": "282e389b",
   "metadata": {},
   "outputs": [
    {
     "name": "stdout",
     "output_type": "stream",
     "text": [
      "True\n"
     ]
    }
   ],
   "source": [
    "a=\"saheb\"\n",
    "print(\"s\" in a)"
   ]
  },
  {
   "cell_type": "code",
   "execution_count": 35,
   "id": "f7c82dec",
   "metadata": {},
   "outputs": [
    {
     "name": "stdout",
     "output_type": "stream",
     "text": [
      "True\n"
     ]
    }
   ],
   "source": [
    "a=[1,4,2,5,7,8]\n",
    "print(1 in a)"
   ]
  },
  {
   "cell_type": "code",
   "execution_count": 36,
   "id": "3de74370",
   "metadata": {},
   "outputs": [
    {
     "ename": "SyntaxError",
     "evalue": "invalid syntax (Temp/ipykernel_9128/748795687.py, line 1)",
     "output_type": "error",
     "traceback": [
      "\u001b[1;36m  File \u001b[1;32m\"C:\\Users\\Asus\\AppData\\Local\\Temp/ipykernel_9128/748795687.py\"\u001b[1;36m, line \u001b[1;32m1\u001b[0m\n\u001b[1;33m    print(3 in not a)\u001b[0m\n\u001b[1;37m               ^\u001b[0m\n\u001b[1;31mSyntaxError\u001b[0m\u001b[1;31m:\u001b[0m invalid syntax\n"
     ]
    }
   ],
   "source": [
    "print(3 in not a)"
   ]
  },
  {
   "cell_type": "code",
   "execution_count": null,
   "id": "97fe662c",
   "metadata": {},
   "outputs": [],
   "source": []
  }
 ],
 "metadata": {
  "kernelspec": {
   "display_name": "Python 3 (ipykernel)",
   "language": "python",
   "name": "python3"
  },
  "language_info": {
   "codemirror_mode": {
    "name": "ipython",
    "version": 3
   },
   "file_extension": ".py",
   "mimetype": "text/x-python",
   "name": "python",
   "nbconvert_exporter": "python",
   "pygments_lexer": "ipython3",
   "version": "3.9.7"
  }
 },
 "nbformat": 4,
 "nbformat_minor": 5
}
