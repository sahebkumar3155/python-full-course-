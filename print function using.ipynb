{
 "cells": [
  {
   "cell_type": "code",
   "execution_count": 12,
   "id": "355a2064",
   "metadata": {},
   "outputs": [
    {
     "name": "stdout",
     "output_type": "stream",
     "text": [
      "hello\n"
     ]
    }
   ],
   "source": [
    "print(\"hello\")"
   ]
  },
  {
   "cell_type": "code",
   "execution_count": 13,
   "id": "1c733498",
   "metadata": {},
   "outputs": [
    {
     "name": "stdout",
     "output_type": "stream",
     "text": [
      "20\n"
     ]
    }
   ],
   "source": [
    "print(20)"
   ]
  },
  {
   "cell_type": "code",
   "execution_count": 14,
   "id": "62815bbd",
   "metadata": {},
   "outputs": [
    {
     "name": "stdout",
     "output_type": "stream",
     "text": [
      "46.44\n"
     ]
    }
   ],
   "source": [
    "print(46.44)"
   ]
  },
  {
   "cell_type": "code",
   "execution_count": 16,
   "id": "5b0cac6c",
   "metadata": {},
   "outputs": [
    {
     "name": "stdout",
     "output_type": "stream",
     "text": [
      "hello 20 51.22\n"
     ]
    }
   ],
   "source": [
    "print(\"hello\",20,51.22)"
   ]
  },
  {
   "cell_type": "code",
   "execution_count": 2,
   "id": "6f91b7c1",
   "metadata": {},
   "outputs": [
    {
     "name": "stdout",
     "output_type": "stream",
     "text": [
      "hello saheb kumar patel\n"
     ]
    }
   ],
   "source": [
    "print(\"hello saheb kumar patel\")"
   ]
  },
  {
   "cell_type": "code",
   "execution_count": 11,
   "id": "29877b4d",
   "metadata": {},
   "outputs": [
    {
     "name": "stdout",
     "output_type": "stream",
     "text": [
      "name  /   saheb  /   patel\n"
     ]
    }
   ],
   "source": [
    "print(\"name\",\"saheb\",\"patel\",sep=\"  /   \")"
   ]
  },
  {
   "cell_type": "code",
   "execution_count": 10,
   "id": "253fab24",
   "metadata": {},
   "outputs": [
    {
     "name": "stdout",
     "output_type": "stream",
     "text": [
      "hello.world\n"
     ]
    }
   ],
   "source": [
    "print(\"hello\",end=\".\")\n",
    "print(\"world\")"
   ]
  }
 ],
 "metadata": {
  "kernelspec": {
   "display_name": "Python 3 (ipykernel)",
   "language": "python",
   "name": "python3"
  },
  "language_info": {
   "codemirror_mode": {
    "name": "ipython",
    "version": 3
   },
   "file_extension": ".py",
   "mimetype": "text/x-python",
   "name": "python",
   "nbconvert_exporter": "python",
   "pygments_lexer": "ipython3",
   "version": "3.9.7"
  }
 },
 "nbformat": 4,
 "nbformat_minor": 5
}
