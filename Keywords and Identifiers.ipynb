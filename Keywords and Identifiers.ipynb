{
 "cells": [
  {
   "cell_type": "markdown",
   "id": "73e8eeb3",
   "metadata": {},
   "source": [
    "# Keywords"
   ]
  },
  {
   "cell_type": "markdown",
   "id": "211a3920",
   "metadata": {},
   "source": [
    "Python is a case sensitive programming language"
   ]
  },
  {
   "cell_type": "markdown",
   "id": "9b07513f",
   "metadata": {},
   "source": [
    "In programming, a keyword is a word that is reserved by a program because the word has a special meaning. Keywords can be commands or parameters. Every programming language has a set of keywords that cannot be \n",
    "used as variable names"
   ]
  },
  {
   "cell_type": "code",
   "execution_count": 1,
   "id": "52d16495",
   "metadata": {},
   "outputs": [
    {
     "name": "stdout",
     "output_type": "stream",
     "text": [
      "['False', 'None', 'True', '__peg_parser__', 'and', 'as', 'assert', 'async', 'await', 'break', 'class', 'continue', 'def', 'del', 'elif', 'else', 'except', 'finally', 'for', 'from', 'global', 'if', 'import', 'in', 'is', 'lambda', 'nonlocal', 'not', 'or', 'pass', 'raise', 'return', 'try', 'while', 'with', 'yield']\n"
     ]
    }
   ],
   "source": [
    "#python has a 33 kyword\n",
    "import keyword\n",
    "print(keyword.kwlist)"
   ]
  },
  {
   "cell_type": "markdown",
   "id": "adb0850e",
   "metadata": {},
   "source": [
    "# Identifiers"
   ]
  },
  {
   "cell_type": "markdown",
   "id": "95a09262",
   "metadata": {},
   "source": [
    "A Python identifier is a name used to identify a variable, function, class, module or other object."
   ]
  },
  {
   "cell_type": "markdown",
   "id": "408721b4",
   "metadata": {},
   "source": [
    "Rules for setting Identifiers"
   ]
  },
  {
   "cell_type": "markdown",
   "id": "33d23129",
   "metadata": {},
   "source": [
    "can only start with an alphabet or _\n",
    "Followed by 0 or more letter,_ and digits\n",
    "keywords cannot be used as an identifiers"
   ]
  },
  {
   "cell_type": "code",
   "execution_count": 3,
   "id": "fcfe7135",
   "metadata": {},
   "outputs": [
    {
     "name": "stdout",
     "output_type": "stream",
     "text": [
      "saheb\n"
     ]
    }
   ],
   "source": [
    "name='saheb'\n",
    "print(name)"
   ]
  },
  {
   "cell_type": "code",
   "execution_count": 4,
   "id": "2277d8a9",
   "metadata": {},
   "outputs": [
    {
     "name": "stdout",
     "output_type": "stream",
     "text": [
      "saheb\n"
     ]
    }
   ],
   "source": [
    "name_kkkk='saheb'\n",
    "print(name_kkkk)"
   ]
  },
  {
   "cell_type": "code",
   "execution_count": 5,
   "id": "298885f8",
   "metadata": {},
   "outputs": [
    {
     "ename": "SyntaxError",
     "evalue": "cannot assign to False (Temp/ipykernel_8620/1690846244.py, line 1)",
     "output_type": "error",
     "traceback": [
      "\u001b[1;36m  File \u001b[1;32m\"C:\\Users\\Asus\\AppData\\Local\\Temp/ipykernel_8620/1690846244.py\"\u001b[1;36m, line \u001b[1;32m1\u001b[0m\n\u001b[1;33m    False='saheb'\u001b[0m\n\u001b[1;37m    ^\u001b[0m\n\u001b[1;31mSyntaxError\u001b[0m\u001b[1;31m:\u001b[0m cannot assign to False\n"
     ]
    }
   ],
   "source": [
    "False='saheb'\n",
    "print(False)"
   ]
  },
  {
   "cell_type": "code",
   "execution_count": null,
   "id": "9b70994f",
   "metadata": {},
   "outputs": [],
   "source": []
  }
 ],
 "metadata": {
  "kernelspec": {
   "display_name": "Python 3 (ipykernel)",
   "language": "python",
   "name": "python3"
  },
  "language_info": {
   "codemirror_mode": {
    "name": "ipython",
    "version": 3
   },
   "file_extension": ".py",
   "mimetype": "text/x-python",
   "name": "python",
   "nbconvert_exporter": "python",
   "pygments_lexer": "ipython3",
   "version": "3.9.7"
  }
 },
 "nbformat": 4,
 "nbformat_minor": 5
}
