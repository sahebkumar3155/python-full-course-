{
 "cells": [
  {
   "cell_type": "markdown",
   "id": "a66d39ba",
   "metadata": {},
   "source": [
    "# Literals"
   ]
  },
  {
   "cell_type": "markdown",
   "id": "29a64b55",
   "metadata": {},
   "source": [
    "Literal is a raw data given in a variable. In Python, there are various types of literals they are as follows:"
   ]
  },
  {
   "cell_type": "raw",
   "id": "f2508b5f",
   "metadata": {},
   "source": [
    "Numeric Literals\n",
    "String Literals\n",
    "Boolean Literals\n",
    "Special Literals"
   ]
  },
  {
   "cell_type": "markdown",
   "id": "c14c81be",
   "metadata": {},
   "source": [
    "# 1. Numeric Literals"
   ]
  },
  {
   "cell_type": "code",
   "execution_count": 3,
   "id": "3788bd9b",
   "metadata": {},
   "outputs": [
    {
     "name": "stdout",
     "output_type": "stream",
     "text": [
      "10 100 200 300\n",
      "10.5 150.0 0.0015\n",
      "3.14j 3.14 0.0\n"
     ]
    }
   ],
   "source": [
    "a = 0b1010 #Binary Literals\n",
    "b = 100 #Decimal Literal \n",
    "c = 0o310 #Octal Literal\n",
    "d = 0x12c #Hexadecimal Literal\n",
    "\n",
    "\n",
    "#Float Literal\n",
    "float_1 = 10.5 \n",
    "float_2 = 1.5e2\n",
    "float_3 = 1.5e-3\n",
    "\n",
    "#Complex Literal \n",
    "x = 3.14j\n",
    "\n",
    "print(a, b, c, d)\n",
    "print(float_1, float_2,float_3)\n",
    "print(x, x.imag, x.real)"
   ]
  },
  {
   "cell_type": "markdown",
   "id": "2fed1d3b",
   "metadata": {},
   "source": [
    "# 2. String Literals"
   ]
  },
  {
   "cell_type": "code",
   "execution_count": 4,
   "id": "d8f4d73a",
   "metadata": {},
   "outputs": [
    {
     "name": "stdout",
     "output_type": "stream",
     "text": [
      "This is Python\n",
      "This is Python\n",
      "C\n",
      "This is a multiline string with more than one line code.\n",
      "😀😆🤣\n",
      "raw \\n string\n"
     ]
    }
   ],
   "source": [
    "string = 'This is Python'\n",
    "strings = \"This is Python\"\n",
    "char = \"C\"\n",
    "multiline_str = \"\"\"This is a multiline string with more than one line code.\"\"\"\n",
    "unicode = u\"\\U0001f600\\U0001F606\\U0001F923\"\n",
    "raw_str = r\"raw \\n string\"\n",
    "\n",
    "print(string)\n",
    "print(strings)\n",
    "print(char)\n",
    "print(multiline_str)\n",
    "print(unicode)\n",
    "print(raw_str)"
   ]
  },
  {
   "cell_type": "markdown",
   "id": "6808e34c",
   "metadata": {},
   "source": [
    "# 3. Boolean Literal"
   ]
  },
  {
   "cell_type": "code",
   "execution_count": 5,
   "id": "0b9c5649",
   "metadata": {},
   "outputs": [
    {
     "name": "stdout",
     "output_type": "stream",
     "text": [
      "a: 5\n",
      "b: 10\n"
     ]
    }
   ],
   "source": [
    "a = True + 4\n",
    "b = False + 10\n",
    "\n",
    "print(\"a:\", a)\n",
    "print(\"b:\", b)"
   ]
  },
  {
   "cell_type": "markdown",
   "id": "2d4ad4a9",
   "metadata": {},
   "source": [
    "# 4. Special Literal"
   ]
  },
  {
   "cell_type": "code",
   "execution_count": 6,
   "id": "2198e96c",
   "metadata": {},
   "outputs": [
    {
     "name": "stdout",
     "output_type": "stream",
     "text": [
      "None\n"
     ]
    }
   ],
   "source": [
    "a = None\n",
    "print(a)"
   ]
  },
  {
   "cell_type": "code",
   "execution_count": null,
   "id": "bced674f",
   "metadata": {},
   "outputs": [],
   "source": []
  }
 ],
 "metadata": {
  "kernelspec": {
   "display_name": "Python 3 (ipykernel)",
   "language": "python",
   "name": "python3"
  },
  "language_info": {
   "codemirror_mode": {
    "name": "ipython",
    "version": 3
   },
   "file_extension": ".py",
   "mimetype": "text/x-python",
   "name": "python",
   "nbconvert_exporter": "python",
   "pygments_lexer": "ipython3",
   "version": "3.9.7"
  }
 },
 "nbformat": 4,
 "nbformat_minor": 5
}
