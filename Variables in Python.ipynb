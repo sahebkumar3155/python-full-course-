{
 "cells": [
  {
   "cell_type": "code",
   "execution_count": 1,
   "id": "62f47d66",
   "metadata": {},
   "outputs": [],
   "source": [
    "name='saheb'"
   ]
  },
  {
   "cell_type": "code",
   "execution_count": 2,
   "id": "46b289f5",
   "metadata": {},
   "outputs": [
    {
     "name": "stdout",
     "output_type": "stream",
     "text": [
      "saheb\n"
     ]
    }
   ],
   "source": [
    "print(name)"
   ]
  },
  {
   "cell_type": "code",
   "execution_count": 3,
   "id": "7db6ed13",
   "metadata": {},
   "outputs": [
    {
     "name": "stdout",
     "output_type": "stream",
     "text": [
      "hello world\n"
     ]
    }
   ],
   "source": [
    "name='hello world'\n",
    "print(name)"
   ]
  },
  {
   "cell_type": "code",
   "execution_count": null,
   "id": "ec744b05",
   "metadata": {},
   "outputs": [],
   "source": [
    "#no varialble declaration in python "
   ]
  },
  {
   "cell_type": "code",
   "execution_count": null,
   "id": "2e2d036e",
   "metadata": {},
   "outputs": [],
   "source": [
    "#python is a daynamic data type beacuse not define the data type\n"
   ]
  },
  {
   "cell_type": "code",
   "execution_count": 4,
   "id": "282439c1",
   "metadata": {},
   "outputs": [
    {
     "name": "stdout",
     "output_type": "stream",
     "text": [
      "78\n"
     ]
    }
   ],
   "source": [
    "name=78\n",
    "print(name)"
   ]
  },
  {
   "cell_type": "code",
   "execution_count": null,
   "id": "27adf595",
   "metadata": {},
   "outputs": [],
   "source": [
    "#you don't have the declared data type in python while using the python python can automatically declared "
   ]
  },
  {
   "cell_type": "code",
   "execution_count": 5,
   "id": "9bcb7b59",
   "metadata": {},
   "outputs": [
    {
     "name": "stdout",
     "output_type": "stream",
     "text": [
      "78\n",
      "98\n",
      "667\n"
     ]
    }
   ],
   "source": [
    "#spcial syntax\n",
    "a=78;b=98;c=667;\n",
    "print(a)\n",
    "print(b)\n",
    "print(c)"
   ]
  },
  {
   "cell_type": "code",
   "execution_count": 6,
   "id": "b83c1a1f",
   "metadata": {},
   "outputs": [
    {
     "name": "stdout",
     "output_type": "stream",
     "text": [
      "7\n",
      "5\n",
      "4\n"
     ]
    }
   ],
   "source": [
    "a,b,c=7,5,4\n",
    "print(a)\n",
    "print(b)\n",
    "print(c)"
   ]
  },
  {
   "cell_type": "code",
   "execution_count": 7,
   "id": "b4d18b98",
   "metadata": {},
   "outputs": [
    {
     "name": "stdout",
     "output_type": "stream",
     "text": [
      "9\n",
      "9\n",
      "9\n"
     ]
    }
   ],
   "source": [
    "a=b=c=9\n",
    "print(a)\n",
    "print(b)\n",
    "print(c)"
   ]
  }
 ],
 "metadata": {
  "kernelspec": {
   "display_name": "Python 3 (ipykernel)",
   "language": "python",
   "name": "python3"
  },
  "language_info": {
   "codemirror_mode": {
    "name": "ipython",
    "version": 3
   },
   "file_extension": ".py",
   "mimetype": "text/x-python",
   "name": "python",
   "nbconvert_exporter": "python",
   "pygments_lexer": "ipython3",
   "version": "3.9.7"
  }
 },
 "nbformat": 4,
 "nbformat_minor": 5
}
