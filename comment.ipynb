{
 "cells": [
  {
   "cell_type": "code",
   "execution_count": null,
   "id": "ab97d804",
   "metadata": {},
   "outputs": [],
   "source": [
    "#comment:-a pic of code which is not acutable by the compiler and interprater its called comment\n",
    "#why you write the program using the comment:-indent code readbaleat"
   ]
  },
  {
   "cell_type": "code",
   "execution_count": null,
   "id": "b1e6faa0",
   "metadata": {},
   "outputs": [],
   "source": [
    "#it is the comment"
   ]
  }
 ],
 "metadata": {
  "kernelspec": {
   "display_name": "Python 3 (ipykernel)",
   "language": "python",
   "name": "python3"
  },
  "language_info": {
   "codemirror_mode": {
    "name": "ipython",
    "version": 3
   },
   "file_extension": ".py",
   "mimetype": "text/x-python",
   "name": "python",
   "nbconvert_exporter": "python",
   "pygments_lexer": "ipython3",
   "version": "3.9.7"
  }
 },
 "nbformat": 4,
 "nbformat_minor": 5
}
