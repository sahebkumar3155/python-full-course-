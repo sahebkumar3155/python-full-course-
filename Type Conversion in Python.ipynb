{
 "cells": [
  {
   "cell_type": "markdown",
   "id": "861353fa",
   "metadata": {},
   "source": [
    "how many typs of type coverion \n",
    "two type of type converion \n",
    "1 implicit  :-it is a aautomatically conversion \n",
    "2 ecplicit  :-it is a user conversation "
   ]
  },
  {
   "cell_type": "code",
   "execution_count": 1,
   "id": "e4f19238",
   "metadata": {},
   "outputs": [
    {
     "data": {
      "text/plain": [
       "9"
      ]
     },
     "execution_count": 1,
     "metadata": {},
     "output_type": "execute_result"
    }
   ],
   "source": [
    "#implicit data type example\n",
    "4+5"
   ]
  },
  {
   "cell_type": "code",
   "execution_count": 2,
   "id": "a0e6f285",
   "metadata": {},
   "outputs": [
    {
     "data": {
      "text/plain": [
       "45"
      ]
     },
     "execution_count": 2,
     "metadata": {},
     "output_type": "execute_result"
    }
   ],
   "source": [
    "# ecplicit data type example\n",
    "int(45)"
   ]
  },
  {
   "cell_type": "code",
   "execution_count": 3,
   "id": "5e8aeb7d",
   "metadata": {},
   "outputs": [
    {
     "data": {
      "text/plain": [
       "45.415"
      ]
     },
     "execution_count": 3,
     "metadata": {},
     "output_type": "execute_result"
    }
   ],
   "source": [
    "float(45.415)"
   ]
  },
  {
   "cell_type": "code",
   "execution_count": 4,
   "id": "6cdfbbb0",
   "metadata": {},
   "outputs": [
    {
     "data": {
      "text/plain": [
       "True"
      ]
     },
     "execution_count": 4,
     "metadata": {},
     "output_type": "execute_result"
    }
   ],
   "source": [
    "bool(1)"
   ]
  },
  {
   "cell_type": "code",
   "execution_count": 5,
   "id": "b1975c10",
   "metadata": {},
   "outputs": [
    {
     "data": {
      "text/plain": [
       "(45+0j)"
      ]
     },
     "execution_count": 5,
     "metadata": {},
     "output_type": "execute_result"
    }
   ],
   "source": [
    "complex(45)"
   ]
  },
  {
   "cell_type": "code",
   "execution_count": 7,
   "id": "932da142",
   "metadata": {},
   "outputs": [
    {
     "data": {
      "text/plain": [
       "['h', 'e', 'l', 'l', 'o']"
      ]
     },
     "execution_count": 7,
     "metadata": {},
     "output_type": "execute_result"
    }
   ],
   "source": [
    "list('hello')"
   ]
  },
  {
   "cell_type": "code",
   "execution_count": 8,
   "id": "1e2b3d80",
   "metadata": {},
   "outputs": [
    {
     "name": "stdout",
     "output_type": "stream",
     "text": [
      "enter the fist number45\n",
      "enter the secon number65\n"
     ]
    }
   ],
   "source": [
    "first_num=int(input(\"enter the fist number\"))\n",
    "second_num=int(input(\"enter the secon number\"))"
   ]
  },
  {
   "cell_type": "code",
   "execution_count": 10,
   "id": "d43a4d2b",
   "metadata": {},
   "outputs": [
    {
     "name": "stdout",
     "output_type": "stream",
     "text": [
      "110\n"
     ]
    }
   ],
   "source": [
    "result=first_num+second_num\n",
    "print(result)"
   ]
  },
  {
   "cell_type": "code",
   "execution_count": null,
   "id": "50d2253e",
   "metadata": {},
   "outputs": [],
   "source": []
  }
 ],
 "metadata": {
  "kernelspec": {
   "display_name": "Python 3 (ipykernel)",
   "language": "python",
   "name": "python3"
  },
  "language_info": {
   "codemirror_mode": {
    "name": "ipython",
    "version": 3
   },
   "file_extension": ".py",
   "mimetype": "text/x-python",
   "name": "python",
   "nbconvert_exporter": "python",
   "pygments_lexer": "ipython3",
   "version": "3.9.7"
  }
 },
 "nbformat": 4,
 "nbformat_minor": 5
}
